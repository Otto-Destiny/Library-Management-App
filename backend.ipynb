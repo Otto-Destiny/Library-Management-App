{
 "cells": [
  {
   "cell_type": "code",
   "execution_count": 39,
   "metadata": {},
   "outputs": [
    {
     "name": "stdout",
     "output_type": "stream",
     "text": [
      "[(1, 'manu', 'Dest', 1919, 2345), (2, 'Jane', 'Janilla', 1987, 4095), (3, 'Jane', 'Janilla', 1987, 4095), (4, 'manu', 'Dest', 1919, 2345), (6, 'manu', 'Dest', 1919, 2345), (7, 'set', 'ret', 1900, 1005), (8, 'koop', 'tiurs', 2009, 4505), (9, 'koop', 'tiurs', 2009, 4505), (10, 'koop', 'tiurs', 2009, 4505), (11, 'koop', 'tiurs', 2009, 4505), (12, 'koop', 'tiurs', 2009, 4505), (13, 'koop', 'tiurs', 2009, 4505), (14, 'koop', 'tiurs', 2009, 4505), (15, 'koop', 'tiurs', 2009, 4505), (16, 'koop', 'tiurs', 2009, 4505), (17, 'koop', 'tiurs', 2009, 4505)]\n"
     ]
    }
   ],
   "source": [
    "import sqlite3\n",
    "def connect():\n",
    "    conn = sqlite3.connect(\"data_b.db\")\n",
    "    cur = conn.cursor()\n",
    "    cur.execute(\"CREATE TABLE IF NOT EXISTS books (id INTEGER PRIMARY KEY, title text, author text, year integer, isbn integer)\")\n",
    "    conn.commit()\n",
    "    conn.close()\n",
    "    \n",
    "def insert(title, author, year, isbn):\n",
    "    conn = sqlite3.connect(\"data_b.db\")\n",
    "    cur = conn.cursor()\n",
    "    cur.execute(\"INSERT INTO books VALUES(NULL, ?,?,?,?)\",(title, author, year, isbn))\n",
    "    conn.commit()\n",
    "    conn.close()\n",
    "    \n",
    "def view():\n",
    "    conn = sqlite3.connect(\"data_b.db\")\n",
    "    cur = conn.cursor()\n",
    "    cur.execute(\"SELECT * FROM books\")\n",
    "    rows = cur.fetchall()\n",
    "    conn.close()\n",
    "    return rows\n",
    "\n",
    "def search(title='', author='', year='', isbn=''):\n",
    "    conn = sqlite3.connect(\"data_b.db\")\n",
    "    cur = conn.cursor()\n",
    "    cur.execute(\"SELECT * FROM books WHERE title=? OR author=? OR year=? OR isbn=?\", (title, author, year, isbn))\n",
    "    rows = cur.fetchall()\n",
    "    conn.close()\n",
    "    return rows\n",
    "\n",
    "def delete(id):\n",
    "    conn = sqlite3.connect(\"data_b.db\")\n",
    "    cur = conn.cursor()\n",
    "    cur.execute(\"DELETE FROM books WHERE id=?\",(id,))\n",
    "    conn.commit()\n",
    "    conn.close()\n",
    "\n",
    "def update(id, title, author, year, isbn):\n",
    "    conn = sqlite3.connect(\"data_b.db\")\n",
    "    cur = conn.cursor()\n",
    "    cur.execute(\"UPDATE books SET title=?, author=?, year=?, isbn=? WHERE id=?\",(title, author, year, isbn, id))\n",
    "    conn.commit()\n",
    "    conn.close()\n",
    "\n",
    "connect()\n",
    "update(3, \"Jane\", \"Janilla\", 1987, 4095)\n",
    "#insert(\"koop\", \"tiurs\", 2009, 4505)\n",
    "\n",
    "print(view())\n",
    "    \n"
   ]
  },
  {
   "cell_type": "code",
   "execution_count": null,
   "metadata": {},
   "outputs": [],
   "source": []
  },
  {
   "cell_type": "code",
   "execution_count": null,
   "metadata": {},
   "outputs": [],
   "source": []
  }
 ],
 "metadata": {
  "kernelspec": {
   "display_name": "Python 3",
   "language": "python",
   "name": "python3"
  },
  "language_info": {
   "codemirror_mode": {
    "name": "ipython",
    "version": 3
   },
   "file_extension": ".py",
   "mimetype": "text/x-python",
   "name": "python",
   "nbconvert_exporter": "python",
   "pygments_lexer": "ipython3",
   "version": "3.8.3"
  }
 },
 "nbformat": 4,
 "nbformat_minor": 4
}
